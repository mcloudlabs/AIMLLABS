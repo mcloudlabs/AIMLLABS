{
 "cells": [
  {
   "cell_type": "code",
   "execution_count": 1,
   "id": "aec8035a",
   "metadata": {},
   "outputs": [],
   "source": [
    "import numpy as np\n",
    "import pandas as pd\n",
    "from scipy.stats import bernoulli"
   ]
  },
  {
   "cell_type": "markdown",
   "id": "b29256c0",
   "metadata": {},
   "source": [
    "## Missing Data Management - Probability Question\n",
    "Construct a database with $100,000$ rows where each record has $100$ fields. Assume further that for each record, each of the $100$ fields has a $1$ per cent chance of being empty, i.e., its value is missing.\n",
    "\n",
    "Remove all records with **two** or more empty fields and report the fraction of records that are removed."
   ]
  },
  {
   "cell_type": "code",
   "execution_count": 2,
   "id": "90d04026",
   "metadata": {},
   "outputs": [],
   "source": [
    "# Set seed for reproducibility\n",
    "np.random.seed(42)"
   ]
  },
  {
   "cell_type": "code",
   "execution_count": 3,
   "id": "0dc1bc5f",
   "metadata": {},
   "outputs": [],
   "source": [
    "# define the size of the database\n",
    "num_rows = 100000\n",
    "num_fields = 100"
   ]
  },
  {
   "cell_type": "code",
   "execution_count": 4,
   "id": "bb29504f",
   "metadata": {},
   "outputs": [],
   "source": [
    "# Generate random data with a 1% chance of being empty\n",
    "data = np.random.choice([np.random.rand() if np.random.rand() > 0.01 else np.nan for _ in range(num_rows * num_fields)],\n",
    "                        size=(num_rows, num_fields))"
   ]
  },
  {
   "cell_type": "code",
   "execution_count": 5,
   "id": "db5c7e3c",
   "metadata": {},
   "outputs": [],
   "source": [
    "# Create a DataFrame\n",
    "df = pd.DataFrame(data, columns=[f\"Field_{i}\" for i in range(num_fields)])"
   ]
  },
  {
   "cell_type": "code",
   "execution_count": 6,
   "id": "6844ab16",
   "metadata": {},
   "outputs": [],
   "source": [
    "# Count the number of missing values in each row\n",
    "missing_values_per_row = df.isnull().sum(axis=1)"
   ]
  },
  {
   "cell_type": "code",
   "execution_count": 7,
   "id": "5c3d1ac8",
   "metadata": {},
   "outputs": [],
   "source": [
    "# Remove records with two or more empty fields\n",
    "df_filtered = df[missing_values_per_row < 2]"
   ]
  },
  {
   "cell_type": "code",
   "execution_count": 8,
   "id": "f627a0d6",
   "metadata": {},
   "outputs": [],
   "source": [
    "# Calculate the fraction of records removed\n",
    "fraction_removed = 1 - len(df_filtered) / len(df)"
   ]
  },
  {
   "cell_type": "code",
   "execution_count": 9,
   "id": "b3e4710c",
   "metadata": {},
   "outputs": [
    {
     "name": "stdout",
     "output_type": "stream",
     "text": [
      "Fraction of records removed: 26.57%\n"
     ]
    }
   ],
   "source": [
    "print(f\"Fraction of records removed: {fraction_removed:.2%}\")"
   ]
  },
  {
   "cell_type": "code",
   "execution_count": null,
   "id": "318a0bb5",
   "metadata": {},
   "outputs": [],
   "source": []
  }
 ],
 "metadata": {
  "kernelspec": {
   "display_name": "Python 3 (ipykernel)",
   "language": "python",
   "name": "python3"
  },
  "language_info": {
   "codemirror_mode": {
    "name": "ipython",
    "version": 3
   },
   "file_extension": ".py",
   "mimetype": "text/x-python",
   "name": "python",
   "nbconvert_exporter": "python",
   "pygments_lexer": "ipython3",
   "version": "3.11.3"
  }
 },
 "nbformat": 4,
 "nbformat_minor": 5
}
